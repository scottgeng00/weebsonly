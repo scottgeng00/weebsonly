{
 "cells": [
  {
   "cell_type": "code",
   "execution_count": 39,
   "metadata": {},
   "outputs": [],
   "source": [
    "from xml.dom import minidom\n",
    "import numpy as np\n",
    "import pandas as pd\n",
    "\n",
    "xmlpath = 'D:\\Dropbox\\Dropbox\\Projects\\\\weebsonly\\\\anime_map.xml'\n",
    "\n",
    "mydoc = minidom.parse(xmlpath)\n",
    "\n",
    "urls = mydoc.getElementsByTagName('url')\n",
    "\n",
    "outputArr = np.empty((len(urls), 3), dtype = \"object\")\n",
    "\n",
    "i = 0\n",
    "for url in urls:\n",
    "    urlString = url.getElementsByTagName('loc')[0].childNodes[0].data\n",
    "    urlComponents = urlString.split('/')\n",
    "    outputArr[i][0] = urlComponents[-2]\n",
    "    outputArr[i][1] = urlComponents[-1]\n",
    "    outputArr[i][2] = urlString\n",
    "    i += 1\n",
    "\n",
    "np.savetxt('test.csv', outputArr, delimiter=',', header='id,name,url', comments='', fmt=\"%s\", encoding='utf-8')"
   ]
  },
  {
   "cell_type": "code",
   "execution_count": null,
   "metadata": {},
   "outputs": [],
   "source": []
  }
 ],
 "metadata": {
  "kernelspec": {
   "display_name": "Python 3",
   "language": "python",
   "name": "python3"
  },
  "language_info": {
   "codemirror_mode": {
    "name": "ipython",
    "version": 3
   },
   "file_extension": ".py",
   "mimetype": "text/x-python",
   "name": "python",
   "nbconvert_exporter": "python",
   "pygments_lexer": "ipython3",
   "version": "3.7.6"
  }
 },
 "nbformat": 4,
 "nbformat_minor": 4
}
