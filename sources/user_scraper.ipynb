{
 "cells": [
  {
   "cell_type": "code",
   "execution_count": null,
   "metadata": {},
   "outputs": [],
   "source": [
    "import urllib.request\n",
    "import html.parser\n",
    "import numpy as np\n",
    "from bs4 import BeautifulSoup\n",
    "\n",
    "#this parsing method is dogshit, relies on mal not updating its website at all\n",
    "\n",
    "age_low = 18\n",
    "age_high = 24\n",
    "gender = \"2\"                         #1 = male, 2 = female, 3 = non-binary, empty string = no preference\n",
    "\n",
    "finalUsers = []\n",
    "\n",
    "\n",
    "for page in range(1, 1000):\n",
    "    pageUsers = []\n",
    "    pageTag = \"&show=\" + str((page-1) * 24)\n",
    "\n",
    "    url = \"https://myanimelist.net/users.php?q=&loc=&agelow=\" + str(age_low) + \"&agehigh=\" + str(age_high) + \"&g=\" + gender + pageTag\n",
    "    print(url)\n",
    "    #print(\"\\n\")\n",
    "\n",
    "    fp = urllib.request.urlopen(url)\n",
    "    html_byteArray = fp.read()\n",
    "    html_String = html_byteArray.decode('utf-8')\n",
    "    #print(html_String)\n",
    "\n",
    "    soup = BeautifulSoup(html_String)\n",
    "    #print(soup)\n",
    "\n",
    "\n",
    "    body = soup.div                   #get the main body of the html (<div id=\"myanimelist\">)\n",
    "\n",
    "    rawUserList = body.find_all('div', class_='borderClass')[0]\n",
    "    \n",
    "    for x in list(rawUserList.nextSibling):               #for each row in the 4x6 user grid: rawUserList.nextSibling gives us an array of 4 rows of users\n",
    "        rawUserRow = list(x.children)                     \n",
    "        for rawUser in rawUserRow:                        #for each of the 6 users in the row\n",
    "            username = rawUser.div.a.string               #get the username from the raw user html data\n",
    "            #print(username)\n",
    "            pageUsers.append(username)\n",
    "            \n",
    "    #print(\"\\n\")\n",
    "    finalUsers.append(pageUsers)\n",
    "\n",
    "print(\"\\n\" + str(len(finalUsers) * 24) + \" usernames sucessfully collected.\")\n",
    "\n",
    "gender_dict = dict([('1', 'M'), ('2', 'F'), ('3', 'NB'), ('', 'A')])\n",
    "\n",
    "filename = gender_dict[gender] + '_' + str(age_low) + '_' + str(age_high)\n",
    "np.savetxt('../output/user lists/' + filename + '.csv', finalUsers, delimiter=',', fmt=\"%s\", encoding='utf-8')\n",
    "print('CSV saved sucessfully.')"
   ]
  },
  {
   "cell_type": "code",
   "execution_count": null,
   "metadata": {},
   "outputs": [],
   "source": []
  }
 ],
 "metadata": {
  "kernelspec": {
   "display_name": "Python 3",
   "language": "python",
   "name": "python3"
  },
  "language_info": {
   "codemirror_mode": {
    "name": "ipython",
    "version": 3
   },
   "file_extension": ".py",
   "mimetype": "text/x-python",
   "name": "python",
   "nbconvert_exporter": "python",
   "pygments_lexer": "ipython3",
   "version": "3.7.6"
  }
 },
 "nbformat": 4,
 "nbformat_minor": 4
}
